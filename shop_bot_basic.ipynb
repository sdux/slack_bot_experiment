{
 "cells": [
  {
   "cell_type": "markdown",
   "metadata": {},
   "source": [
    "## Simple Slack Bot Setup\n",
    "\n",
    "Getting a first slack bot up and running"
   ]
  },
  {
   "cell_type": "markdown",
   "metadata": {},
   "source": [
    "#### First, Python packages\n",
    "\n",
    "We'll need the slackclient library from the Slack team to access the API\n",
    "\n",
    "pip install slackclient"
   ]
  },
  {
   "cell_type": "markdown",
   "metadata": {},
   "source": [
    "#### Setup a Slack Team\n",
    "\n",
    "https://api.slack.com/\n",
    "\n",
    "\n",
    "#### Setup the Slackbot on Slack \n",
    "\n",
    "https://api.slack.com/bot-users\n",
    "\n",
    "Copy the Slackbot API Token\n"
   ]
  },
  {
   "cell_type": "markdown",
   "metadata": {},
   "source": [
    "### Get the Bot's ID \n",
    "\n",
    "The Bot's ID is used to determine if messages parsed from the Slack RTM (real time messaging) API are being directed at our slack bot."
   ]
  },
  {
   "cell_type": "code",
   "execution_count": 3,
   "metadata": {
    "collapsed": false
   },
   "outputs": [
    {
     "name": "stdout",
     "output_type": "stream",
     "text": [
      "User: shopbot is a bot? True\n",
      "Bot ID for shopbot is U281D2V62\n"
     ]
    }
   ],
   "source": [
    "import time\n",
    "from slackclient import SlackClient\n",
    "\n",
    "BOT_NAME = 'shopbot'\n",
    "\n",
    "# your bot's token here:\n",
    "BOT_TOKEN = 'Your bot token here'\n",
    "\n",
    "slack_client = SlackClient(BOT_TOKEN)\n",
    "\n",
    "if __name__ == \"__main__\":\n",
    "    api_call = slack_client.api_call(\"users.list\")\n",
    "    if api_call.get('ok'):\n",
    "        # retrieve all users so we can find our bot\n",
    "        users = api_call.get('members')\n",
    "        for user in users:\n",
    "            if 'name' in user and user.get('name') == BOT_NAME:\n",
    "                print('User:',user['name'],'is a bot?',user['is_bot'])\n",
    "                print(\"Bot ID for \" + user['name'] +' is '+user.get('id'))\n",
    "                # set BOT_ID for team specific bot ID\n",
    "                BOT_ID = user.get('id')\n",
    "    else:\n",
    "        print(\"could not find bot user with the name \" + BOT_NAME)"
   ]
  },
  {
   "cell_type": "markdown",
   "metadata": {},
   "source": [
    "### Now Setup the Slack client\n",
    "\n",
    "The Slack client will connect to the Slack RTM API and loop continuously checking for commands directed at the Slack Bot specified by the BOT_TOKEN"
   ]
  },
  {
   "cell_type": "markdown",
   "metadata": {},
   "source": [
    "The AT_BOT variable is how we'll interact with the Slackbot  \n",
    "In this case we'd have to enter '@shopbot: sup' in Slack to get a response."
   ]
  },
  {
   "cell_type": "code",
   "execution_count": null,
   "metadata": {
    "collapsed": false
   },
   "outputs": [],
   "source": [
    "# constants\n",
    "AT_BOT = \"<@\" + BOT_ID + \">:\"\n",
    "EXAMPLE_COMMAND = \"sup\""
   ]
  },
  {
   "cell_type": "markdown",
   "metadata": {},
   "source": [
    "We'll simplify the Bot reference command to @BOT_NAME and avoid having to delete the default white space and add a colon :"
   ]
  },
  {
   "cell_type": "code",
   "execution_count": null,
   "metadata": {
    "collapsed": true
   },
   "outputs": [],
   "source": [
    "AT_BOT = \"<@\" + BOT_ID + \">\""
   ]
  },
  {
   "cell_type": "code",
   "execution_count": null,
   "metadata": {
    "collapsed": false
   },
   "outputs": [],
   "source": [
    "slack_client = SlackClient(BOT_TOKEN)\n",
    "\n",
    "def handle_command(command, channel):\n",
    "    \"\"\"\n",
    "        Receives commands directed at the bot and determines if they\n",
    "        are valid commands. If so, then acts on the commands. If not,\n",
    "        returns back what it needs for clarification.\n",
    "    \"\"\"\n",
    "    print(\"handle_command\")\n",
    "    response = \"Nope.  I only do *\" + EXAMPLE_COMMAND + \\\n",
    "               \"* for now.\"\n",
    "    if command.startswith(EXAMPLE_COMMAND):\n",
    "        response = \"What up!\"\n",
    "    slack_client.api_call(\"chat.postMessage\", channel=channel,\n",
    "                          text=response, as_user=True)\n",
    "\n",
    "\n",
    "def parse_slack_output(slack_rtm_output):\n",
    "    \"\"\"\n",
    "        The Slack Real Time Messaging API is an events firehose.\n",
    "        this parsing function returns None unless a message is\n",
    "        directed at the Bot, based on its ID.\n",
    "    \"\"\"\n",
    "    output_list = slack_rtm_output\n",
    "    if output_list and len(output_list) > 0:\n",
    "        for output in output_list:\n",
    "            if output and 'text' in output and AT_BOT in output['text']:\n",
    "                # return text after the @ mention, whitespace removed\n",
    "                return output['text'].split(AT_BOT)[1].strip().lower(), \\\n",
    "                       output['channel']\n",
    "    return None, None\n",
    "\n",
    "\n",
    "if __name__ == \"__main__\":\n",
    "    READ_WEBSOCKET_DELAY = 1 # 1 second delay between reading from firehose\n",
    "    if slack_client.rtm_connect():\n",
    "        print(BOT_NAME,'connected and running!')\n",
    "        while True:\n",
    "            command, channel = parse_slack_output(slack_client.rtm_read())\n",
    "            if command and channel:\n",
    "                handle_command(command, channel)\n",
    "            time.sleep(READ_WEBSOCKET_DELAY)\n",
    "    else:\n",
    "        print(\"Connection failed. Invalid Slack Token or Bot ID?\")"
   ]
  },
  {
   "cell_type": "markdown",
   "metadata": {},
   "source": [
    " ### Now to add functionality \n",
    " \n",
    " "
   ]
  },
  {
   "cell_type": "markdown",
   "metadata": {},
   "source": [
    "#### Reference\n",
    "Matt Makai (2016): https://www.fullstackpython.com/blog/build-first-slack-bot-python.html"
   ]
  },
  {
   "cell_type": "code",
   "execution_count": null,
   "metadata": {
    "collapsed": true
   },
   "outputs": [],
   "source": []
  }
 ],
 "metadata": {
  "kernelspec": {
   "display_name": "Python 3",
   "language": "python",
   "name": "python3"
  },
  "language_info": {
   "codemirror_mode": {
    "name": "ipython",
    "version": 3
   },
   "file_extension": ".py",
   "mimetype": "text/x-python",
   "name": "python",
   "nbconvert_exporter": "python",
   "pygments_lexer": "ipython3",
   "version": "3.5.1"
  }
 },
 "nbformat": 4,
 "nbformat_minor": 0
}
